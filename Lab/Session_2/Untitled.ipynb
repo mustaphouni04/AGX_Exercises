{
 "cells": [
  {
   "cell_type": "code",
   "execution_count": 1,
   "id": "c924fab9-970f-4508-bb9f-c4fcdd1227ae",
   "metadata": {},
   "outputs": [],
   "source": [
    "import networkx as nx\n",
    "gB = nx.read_graphml('../Session_1/gB.graphml')\n",
    "gD = nx.read_graphml('../Session_1/gD.graphml')"
   ]
  },
  {
   "cell_type": "code",
   "execution_count": 2,
   "id": "433cedcd-26da-4348-92f6-b605875b3a79",
   "metadata": {},
   "outputs": [
    {
     "name": "stdout",
     "output_type": "stream",
     "text": [
      "gB - Number of weakly connected components: 1\n",
      "gB - Number of strongly connected components: 372\n",
      "gD - Number of weakly connected components: 1\n",
      "gD - Number of strongly connected components: 393\n"
     ]
    }
   ],
   "source": [
    "# calculate the number of weakly and strongly connected components in gB\n",
    "num_weakly_connected_gB = nx.number_weakly_connected_components(gB)\n",
    "num_strongly_connected_gB = nx.number_strongly_connected_components(gB)\n",
    "\n",
    "# calculate the number of weakly and strongly connected components in gD\n",
    "num_weakly_connected_gD = nx.number_weakly_connected_components(gD)\n",
    "num_strongly_connected_gD = nx.number_strongly_connected_components(gD)\n",
    "\n",
    "# print the results\n",
    "print(f\"gB - Number of weakly connected components: {num_weakly_connected_gB}\")\n",
    "print(f\"gB - Number of strongly connected components: {num_strongly_connected_gB}\")\n",
    "print(f\"gD - Number of weakly connected components: {num_weakly_connected_gD}\")\n",
    "print(f\"gD - Number of strongly connected components: {num_strongly_connected_gD}\")"
   ]
  },
  {
   "cell_type": "code",
   "execution_count": 4,
   "id": "20043370-edec-453f-bd6a-02064270466d",
   "metadata": {},
   "outputs": [],
   "source": [
    "gB_undirected = nx.read_graphml('gBp.graphml')\n",
    "gD_undirected = nx.read_graphml('gDp.graphml')"
   ]
  },
  {
   "cell_type": "code",
   "execution_count": 5,
   "id": "4dd76838-084c-4754-a0b8-b9451d900110",
   "metadata": {},
   "outputs": [
    {
     "name": "stdout",
     "output_type": "stream",
     "text": [
      "gB - Number of weakly connected components: 1\n",
      "gD - Number of weakly connected components: 1\n"
     ]
    }
   ],
   "source": [
    "# calculate the number of weakly and strongly connected components in gB\n",
    "num_connected_gB_undirected = nx.number_connected_components(gB_undirected)\n",
    "\n",
    "# calculate the number of weakly and strongly connected components in gD\n",
    "num_connected_gD_undirected = nx.number_connected_components(gD_undirected)\n",
    "\n",
    "# print the results\n",
    "print(f\"gB - Number of weakly connected components: {num_connected_gB_undirected}\")\n",
    "print(f\"gD - Number of weakly connected components: {num_connected_gD_undirected}\")\n"
   ]
  },
  {
   "cell_type": "code",
   "execution_count": null,
   "id": "83bf5dfe-6fe9-4461-b619-91a6ad012a06",
   "metadata": {},
   "outputs": [],
   "source": []
  }
 ],
 "metadata": {
  "kernelspec": {
   "display_name": "Python 3 (ipykernel)",
   "language": "python",
   "name": "python3"
  },
  "language_info": {
   "codemirror_mode": {
    "name": "ipython",
    "version": 3
   },
   "file_extension": ".py",
   "mimetype": "text/x-python",
   "name": "python",
   "nbconvert_exporter": "python",
   "pygments_lexer": "ipython3",
   "version": "3.11.5"
  }
 },
 "nbformat": 4,
 "nbformat_minor": 5
}
