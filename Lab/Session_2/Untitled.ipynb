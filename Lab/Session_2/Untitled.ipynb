{
 "cells": [
  {
   "cell_type": "code",
   "execution_count": 85,
   "id": "c924fab9-970f-4508-bb9f-c4fcdd1227ae",
   "metadata": {},
   "outputs": [],
   "source": [
    "import networkx as nx\n",
    "gB = nx.read_graphml('../Session_1/gB.graphml')\n",
    "gD = nx.read_graphml('../Session_1/gD.graphml')"
   ]
  },
  {
   "cell_type": "code",
   "execution_count": 86,
   "id": "433cedcd-26da-4348-92f6-b605875b3a79",
   "metadata": {},
   "outputs": [
    {
     "name": "stdout",
     "output_type": "stream",
     "text": [
      "gB - Number of weakly connected components: 1\n",
      "gB - Number of strongly connected components: 372\n",
      "gD - Number of weakly connected components: 1\n",
      "gD - Number of strongly connected components: 393\n"
     ]
    }
   ],
   "source": [
    "# calculate the number of weakly and strongly connected components in gB\n",
    "num_weakly_connected_gB = nx.number_weakly_connected_components(gB)\n",
    "num_strongly_connected_gB = nx.number_strongly_connected_components(gB)\n",
    "\n",
    "# calculate the number of weakly and strongly connected components in gD\n",
    "num_weakly_connected_gD = nx.number_weakly_connected_components(gD)\n",
    "num_strongly_connected_gD = nx.number_strongly_connected_components(gD)\n",
    "\n",
    "# print the results\n",
    "print(f\"gB - Number of weakly connected components: {num_weakly_connected_gB}\")\n",
    "print(f\"gB - Number of strongly connected components: {num_strongly_connected_gB}\")\n",
    "print(f\"gD - Number of weakly connected components: {num_weakly_connected_gD}\")\n",
    "print(f\"gD - Number of strongly connected components: {num_strongly_connected_gD}\")"
   ]
  },
  {
   "cell_type": "code",
   "execution_count": 87,
   "id": "20043370-edec-453f-bd6a-02064270466d",
   "metadata": {},
   "outputs": [],
   "source": [
    "gB_undirected = nx.read_graphml('gBp.graphml')\n",
    "gD_undirected = nx.read_graphml('gDp.graphml')"
   ]
  },
  {
   "cell_type": "code",
   "execution_count": 88,
   "id": "4dd76838-084c-4754-a0b8-b9451d900110",
   "metadata": {},
   "outputs": [
    {
     "name": "stdout",
     "output_type": "stream",
     "text": [
      "gB - Number of weakly connected components: 1\n",
      "gD - Number of weakly connected components: 1\n"
     ]
    }
   ],
   "source": [
    "# calculate the number of weakly and strongly connected components in gB\n",
    "num_connected_gB_undirected = nx.number_connected_components(gB_undirected)\n",
    "\n",
    "# calculate the number of weakly and strongly connected components in gD\n",
    "num_connected_gD_undirected = nx.number_connected_components(gD_undirected)\n",
    "\n",
    "# print the results\n",
    "print(f\"gB - Number of weakly connected components: {num_connected_gB_undirected}\")\n",
    "print(f\"gD - Number of weakly connected components: {num_connected_gD_undirected}\")\n"
   ]
  },
  {
   "cell_type": "code",
   "execution_count": 90,
   "id": "5b75ee08-81ba-4cc2-b428-c09453ecd43b",
   "metadata": {},
   "outputs": [
    {
     "name": "stdout",
     "output_type": "stream",
     "text": [
      "Most similar artists:\n",
      "Artist 188VINPQh5dyNfLUkevKqf and Artist 4AK6F7OLvEQ5QYCBNiQWHq with similarity 0.9999997841241353\n",
      "Artist 0C8ZW7ezQVs4URX5aX7Kqx and Artist 5p7f24Rk5HkUZsaS3BLG5F with similarity 0.9999997100975725\n",
      "Least similar artists:\n",
      "Artist 1KYszkVzlhV3rAqmAcYIgd and Artist 3gIRvgZssIb9aiirIg0nI3 with similarity 0.9955169690368278\n",
      "Artist 0p4nmQO2msCgU4IF37Wi3j and Artist 3gIRvgZssIb9aiirIg0nI3 with similarity 0.9957666026466663\n"
     ]
    }
   ],
   "source": [
    "gw = nx.read_graphml('gw.graphml')\n",
    "\n",
    "# get the edge weights as a dictionary\n",
    "edge_weights = nx.get_edge_attributes(gw, 'weight')\n",
    "\n",
    "# find the two most similar artists\n",
    "most_similar_artists = sorted(edge_weights.items(), key=lambda x: x[1], reverse=True)[:2]\n",
    "print(\"Most similar artists:\")\n",
    "for edge, weight in most_similar_artists:\n",
    "    print(f\"Artist {edge[0]} and Artist {edge[1]} with similarity {weight}\")\n",
    "\n",
    "# find the two least similar artists\n",
    "least_similar_artists = sorted(edge_weights.items(), key=lambda x: x[1])[:2]\n",
    "print(\"Least similar artists:\")\n",
    "for edge, weight in least_similar_artists:\n",
    "    print(f\"Artist {edge[0]} and Artist {edge[1]} with similarity {weight}\")\n"
   ]
  },
  {
   "cell_type": "code",
   "execution_count": 83,
   "id": "ee003ebc-9612-4c32-a1e9-64c7a7319d0c",
   "metadata": {},
   "outputs": [],
   "source": [
    "import pandas as pd\n",
    "df = pd.read_csv(\"../Session_1/songs.csv\")\n",
    "\n"
   ]
  },
  {
   "cell_type": "code",
   "execution_count": null,
   "id": "c6c78593-13d5-4d53-ab3d-4e20d8259d35",
   "metadata": {},
   "outputs": [],
   "source": []
  }
 ],
 "metadata": {
  "kernelspec": {
   "display_name": "Python 3 (ipykernel)",
   "language": "python",
   "name": "python3"
  },
  "language_info": {
   "codemirror_mode": {
    "name": "ipython",
    "version": 3
   },
   "file_extension": ".py",
   "mimetype": "text/x-python",
   "name": "python",
   "nbconvert_exporter": "python",
   "pygments_lexer": "ipython3",
   "version": "3.11.5"
  }
 },
 "nbformat": 4,
 "nbformat_minor": 5
}
