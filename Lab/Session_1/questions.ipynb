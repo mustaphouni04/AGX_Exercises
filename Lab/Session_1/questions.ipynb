{
 "cells": [
  {
   "cell_type": "code",
   "execution_count": null,
   "metadata": {},
   "outputs": [],
   "source": [
    "from Lab_AGX_202324_P1_skeleton import *\n",
    "import json\n",
    "import spotipy\n",
    "from spotipy.oauth2 import SpotifyClientCredentials\n",
    "\n",
    "with open('credentials.json') as f:\n",
    "\tcredentials = json.load(f)\n",
    "\n",
    "CLIENT_ID = credentials['CLIENT_ID']\n",
    "CLIENT_SECRET = credentials['CLIENT_SECRET']\n",
    "\n",
    "auth_manager = SpotifyClientCredentials(\n",
    "\t\tclient_id = CLIENT_ID,\n",
    "\t\tclient_secret = CLIENT_SECRET)\n",
    "sp = spotipy.Spotify(auth_manager = auth_manager)"
   ]
  },
  {
   "cell_type": "code",
   "execution_count": null,
   "metadata": {},
   "outputs": [],
   "source": [
    "artist_id = search_artist(sp, 'Taylor Swift')\n",
    "gB = crawler(sp, artist_id, max_nodes_to_crawl=100, strategy=\"BFS\", out_filename=\"gB.graphml\")\n",
    "gD = crawler(sp, artist_id, max_nodes_to_crawl=100, strategy=\"DFS\", out_filename=\"gD.graphml\")\n",
    "dataset_D = get_track_data(sp, [gB, gD], out_filename=\"dataset_D.csv\")\n",
    "artist2_id = search_artist(sp, 'Pastel Ghost')\n",
    "hB = crawler(sp, artist2_id, max_nodes_to_crawl=100, strategy=\"BFS\", out_filename=\"hB.graphml\")"
   ]
  }
 ],
 "metadata": {
  "kernelspec": {
   "display_name": "base",
   "language": "python",
   "name": "python3"
  },
  "language_info": {
   "name": "python",
   "version": "3.11.5"
  }
 },
 "nbformat": 4,
 "nbformat_minor": 2
}
