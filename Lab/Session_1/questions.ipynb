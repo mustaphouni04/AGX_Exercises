{
 "cells": [
  {
   "cell_type": "code",
   "execution_count": 1,
   "metadata": {},
   "outputs": [],
   "source": [
    "from Lab_AGX_202324_P1_skeleton import *\n",
    "import json\n",
    "import spotipy\n",
    "from spotipy.oauth2 import SpotifyClientCredentials\n",
    "\n",
    "with open('credentials.json') as f:\n",
    "\tcredentials = json.load(f)\n",
    "\n",
    "CLIENT_ID = credentials['CLIENT_ID']\n",
    "CLIENT_SECRET = credentials['CLIENT_SECRET']\n",
    "\n",
    "auth_manager = SpotifyClientCredentials(\n",
    "\t\tclient_id = CLIENT_ID,\n",
    "\t\tclient_secret = CLIENT_SECRET)\n",
    "sp = spotipy.Spotify(auth_manager = auth_manager)"
   ]
  },
  {
   "cell_type": "code",
   "execution_count": 2,
   "metadata": {},
   "outputs": [],
   "source": [
    "artist_id = search_artist(sp, 'Taylor Swift')\n",
    "gB = crawler(sp, artist_id, max_nodes_to_crawl=100, strategy=\"BFS\", out_filename=\"gB.graphml\")\n",
    "gD = crawler(sp, artist_id, max_nodes_to_crawl=100, strategy=\"DFS\", out_filename=\"gD.graphml\")\n",
    "dataset_D = get_track_data(sp, [gB, gD], out_filename=\"songs.csv\")\n",
    "artist2_id = search_artist(sp, 'Pastel Ghost')\n",
    "hB = crawler(sp, artist2_id, max_nodes_to_crawl=100, strategy=\"BFS\", out_filename=\"hB.graphml\")"
   ]
  },
  {
   "cell_type": "code",
   "execution_count": 3,
   "metadata": {},
   "outputs": [
    {
     "data": {
      "text/plain": [
       "(107, 400, 106, 120)"
      ]
     },
     "execution_count": 3,
     "metadata": {},
     "output_type": "execute_result"
    }
   ],
   "source": [
    "gB.order(), gB.size(), gD.order(), gD.size()"
   ]
  },
  {
   "cell_type": "code",
   "execution_count": 5,
   "metadata": {},
   "outputs": [
    {
     "name": "stdout",
     "output_type": "stream",
     "text": [
      "gB Stats: {'in_degree': {'min': 1, 'max': 15, 'median': 2.0}, 'out_degree': {'min': 0, 'max': 20, 'median': 0.0}}\n",
      "gD Stats: {'in_degree': {'min': 0, 'max': 2, 'median': 1.0}, 'out_degree': {'min': 0, 'max': 20, 'median': 0.0}}\n"
     ]
    }
   ],
   "source": [
    "import numpy as np\n",
    "def get_degree_stats(graph):\n",
    "    in_degrees = [d for n, d in graph.in_degree()]\n",
    "    out_degrees = [d for n, d in graph.out_degree()]\n",
    "\n",
    "    stats = {\n",
    "        'in_degree': {\n",
    "            'min': np.min(in_degrees),\n",
    "            'max': np.max(in_degrees),\n",
    "            'median': np.median(in_degrees)\n",
    "        },\n",
    "        'out_degree': {\n",
    "            'min': np.min(out_degrees),\n",
    "            'max': np.max(out_degrees),\n",
    "            'median': np.median(out_degrees)\n",
    "        }\n",
    "    }\n",
    "\n",
    "    return stats\n",
    "\n",
    "# Assuming gB and gD are already created\n",
    "gB_stats = get_degree_stats(gB)\n",
    "gD_stats = get_degree_stats(gD)\n",
    "\n",
    "print(\"gB Stats:\", gB_stats)\n",
    "print(\"gD Stats:\", gD_stats)"
   ]
  }
 ],
 "metadata": {
  "kernelspec": {
   "display_name": "base",
   "language": "python",
   "name": "python3"
  },
  "language_info": {
   "codemirror_mode": {
    "name": "ipython",
    "version": 3
   },
   "file_extension": ".py",
   "mimetype": "text/x-python",
   "name": "python",
   "nbconvert_exporter": "python",
   "pygments_lexer": "ipython3",
   "version": "3.11.5"
  }
 },
 "nbformat": 4,
 "nbformat_minor": 2
}
