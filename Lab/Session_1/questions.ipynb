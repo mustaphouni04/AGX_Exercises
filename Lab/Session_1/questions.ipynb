{
 "cells": [
  {
   "cell_type": "code",
   "execution_count": 2,
   "metadata": {},
   "outputs": [],
   "source": [
    "from Lab_AGX_202324_P1_skeleton import *\n",
    "import json\n",
    "import spotipy\n",
    "from spotipy.oauth2 import SpotifyClientCredentials\n",
    "\n",
    "with open('credentials.json') as f:\n",
    "\tcredentials = json.load(f)\n",
    "\n",
    "CLIENT_ID = credentials['CLIENT_ID']\n",
    "CLIENT_SECRET = credentials['CLIENT_SECRET']\n",
    "\n",
    "auth_manager = SpotifyClientCredentials(\n",
    "\t\tclient_id = CLIENT_ID,\n",
    "\t\tclient_secret = CLIENT_SECRET)\n",
    "sp = spotipy.Spotify(auth_manager = auth_manager)"
   ]
  },
  {
   "cell_type": "code",
   "execution_count": 3,
   "metadata": {},
   "outputs": [],
   "source": [
    "artist_id = search_artist(sp, 'Taylor Swift')\n",
    "gB = crawler(sp, artist_id, max_nodes_to_crawl=100, strategy=\"BFS\", out_filename=\"gB.graphml\")\n",
    "gD = crawler(sp, artist_id, max_nodes_to_crawl=100, strategy=\"DFS\", out_filename=\"gD.graphml\")\n",
    "dataset_D = get_track_data(sp, [gB, gD], out_filename=\"songs.csv\")\n",
    "artist2_id = search_artist(sp, 'Pastel Ghost')\n",
    "hB = crawler(sp, artist2_id, max_nodes_to_crawl=100, strategy=\"BFS\", out_filename=\"hB.graphml\")"
   ]
  },
  {
   "cell_type": "code",
   "execution_count": 4,
   "metadata": {},
   "outputs": [
    {
     "data": {
      "text/plain": [
       "(108, 420, 100, 139)"
      ]
     },
     "execution_count": 4,
     "metadata": {},
     "output_type": "execute_result"
    }
   ],
   "source": [
    "gB.order(), gB.size(), gD.order(), gD.size()"
   ]
  },
  {
   "cell_type": "code",
   "execution_count": 5,
   "metadata": {},
   "outputs": [
    {
     "name": "stdout",
     "output_type": "stream",
     "text": [
      "gB Stats: {'in_degree': {'min': 1, 'max': 16, 'median': 2.0}, 'out_degree': {'min': 0, 'max': 20, 'median': 0.0}}\n",
      "gD Stats: {'in_degree': {'min': 0, 'max': 4, 'median': 1.0}, 'out_degree': {'min': 0, 'max': 20, 'median': 0.0}}\n"
     ]
    }
   ],
   "source": [
    "import numpy as np\n",
    "def get_degree_stats(graph):\n",
    "    in_degrees = [d for n, d in graph.in_degree()]\n",
    "    out_degrees = [d for n, d in graph.out_degree()]\n",
    "\n",
    "    stats = {\n",
    "        'in_degree': {\n",
    "            'min': np.min(in_degrees),\n",
    "            'max': np.max(in_degrees),\n",
    "            'median': np.median(in_degrees)\n",
    "        },\n",
    "        'out_degree': {\n",
    "            'min': np.min(out_degrees),\n",
    "            'max': np.max(out_degrees),\n",
    "            'median': np.median(out_degrees)\n",
    "        }\n",
    "    }\n",
    "\n",
    "    return stats\n",
    "\n",
    "# Assuming gB and gD are already created\n",
    "gB_stats = get_degree_stats(gB)\n",
    "gD_stats = get_degree_stats(gD)\n",
    "\n",
    "print(\"gB Stats:\", gB_stats)\n",
    "print(\"gD Stats:\", gD_stats)"
   ]
  },
  {
   "cell_type": "code",
   "execution_count": 6,
   "metadata": {},
   "outputs": [],
   "source": [
    "import pandas as pd\n",
    "\n",
    "df = pd.read_csv(\"songs.csv\")"
   ]
  },
  {
   "cell_type": "code",
   "execution_count": 17,
   "metadata": {},
   "outputs": [
    {
     "name": "stdout",
     "output_type": "stream",
     "text": [
      "The number of different songs in the dataset is  1364\n"
     ]
    }
   ],
   "source": [
    "df[\"track_id\"].unique()\n",
    "print(\"The number of different songs in the dataset is \", len(df[\"track_id\"].unique()))"
   ]
  },
  {
   "cell_type": "code",
   "execution_count": 18,
   "metadata": {},
   "outputs": [
    {
     "name": "stdout",
     "output_type": "stream",
     "text": [
      "The number of different artists in the dataset is  142\n"
     ]
    }
   ],
   "source": [
    "df[\"artist_id\"].unique()\n",
    "print(\"The number of different artists in the dataset is \", len(df[\"artist_id\"].unique()))"
   ]
  },
  {
   "cell_type": "code",
   "execution_count": 19,
   "metadata": {},
   "outputs": [
    {
     "name": "stdout",
     "output_type": "stream",
     "text": [
      "The number of different albums in the dataset is  821\n"
     ]
    }
   ],
   "source": [
    "df[\"album_name\"].unique()\n",
    "print(\"The number of different albums in the dataset is \", len(df[\"album_name\"].unique()))"
   ]
  },
  {
   "cell_type": "code",
   "execution_count": 20,
   "metadata": {},
   "outputs": [
    {
     "name": "stdout",
     "output_type": "stream",
     "text": [
      "Albums with different artist names:\n",
      "album_name\n",
      "Camp Rock 2: The Final Jam                                                3\n",
      "Descendants 2 (Original TV Movie Soundtrack)                              2\n",
      "Descendants 3 (Original TV Movie Soundtrack)                              2\n",
      "Disney 2000s, Vol. 1                                                      4\n",
      "Expectations                                                              2\n",
      "Feel Good Music                                                           3\n",
      "Hannah Montana 3                                                          2\n",
      "High School Musical                                                       3\n",
      "High School Musical 2 (Original Soundtrack)                               2\n",
      "Lemonade Mouth                                                            2\n",
      "Make Your Mark: Ultimate Playlist                                         2\n",
      "Pitch Perfect 2 - Special Edition (Original Motion Picture Soundtrack)    2\n",
      "Pretty Girl                                                               2\n",
      "Stay                                                                      2\n",
      "Teen Beach Movie                                                          2\n",
      "V                                                                         2\n",
      "Younger                                                                   2\n",
      "Name: artist_name, dtype: int64\n",
      "Album: Camp Rock 2: The Final Jam, Artists: ['Demi Lovato' 'Kevin Jonas' 'Nick Jonas']\n",
      "Album: Descendants 2 (Original TV Movie Soundtrack), Artists: ['Sofia Carson' 'Dove Cameron']\n",
      "Album: Descendants 3 (Original TV Movie Soundtrack), Artists: ['Dove Cameron' 'Sofia Carson']\n",
      "Album: Disney 2000s, Vol. 1, Artists: ['Demi Lovato' 'Joe Jonas' 'Hannah Montana' 'Miley Cyrus']\n",
      "Album: Expectations, Artists: ['Hayley Kiyoko' 'Bebe Rexha']\n",
      "Album: Feel Good Music, Artists: ['Maroon 5' 'Justin Bieber' 'Alesso']\n",
      "Album: Hannah Montana 3, Artists: ['Hannah Montana' 'Mitchel Musso']\n",
      "Album: High School Musical, Artists: ['Vanessa Hudgens' 'High School Musical Cast' 'Ryan']\n",
      "Album: High School Musical 2 (Original Soundtrack), Artists: ['Zac Efron' 'High School Musical Cast']\n",
      "Album: Lemonade Mouth, Artists: ['Adam Hicks' 'Bridgit Mendler']\n",
      "Album: Make Your Mark: Ultimate Playlist, Artists: ['Bridgit Mendler' 'Olivia Holt']\n",
      "Album: Pitch Perfect 2 - Special Edition (Original Motion Picture Soundtrack), Artists: ['Hailee Steinfeld' 'Jessie J']\n",
      "Album: Pretty Girl, Artists: ['Maggie Lindemann' 'Clairo']\n",
      "Album: Stay, Artists: ['Zedd' 'Gracie Abrams']\n",
      "Album: Teen Beach Movie, Artists: ['Ross Lynch' 'Maia Mitchell']\n",
      "Album: V, Artists: ['Maroon 5' 'Vanessa Hudgens']\n",
      "Album: Younger, Artists: ['Ruel' 'Jonas Blue']\n"
     ]
    }
   ],
   "source": [
    "# group by album_name and check for multiple unique artist_names\n",
    "album_groups = df.groupby('album_name')['artist_name'].nunique()\n",
    "multiple_artists = album_groups[album_groups > 1]\n",
    "\n",
    "# display albums with multiple artists\n",
    "print(\"Albums with different artist names:\")\n",
    "print(multiple_artists)\n",
    "\n",
    "for album in multiple_artists.index:\n",
    "    artists = df[df['album_name'] == album]['artist_name'].unique()\n",
    "    print(f\"Album: {album}, Artists: {artists}\")"
   ]
  },
  {
   "cell_type": "code",
   "execution_count": null,
   "metadata": {},
   "outputs": [],
   "source": []
  }
 ],
 "metadata": {
  "kernelspec": {
   "display_name": "Python 3 (ipykernel)",
   "language": "python",
   "name": "python3"
  },
  "language_info": {
   "codemirror_mode": {
    "name": "ipython",
    "version": 3
   },
   "file_extension": ".py",
   "mimetype": "text/x-python",
   "name": "python",
   "nbconvert_exporter": "python",
   "pygments_lexer": "ipython3",
   "version": "3.11.5"
  }
 },
 "nbformat": 4,
 "nbformat_minor": 4
}
